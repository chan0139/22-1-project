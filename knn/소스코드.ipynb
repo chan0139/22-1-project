{
 "cells": [
  {
   "cell_type": "code",
   "execution_count": 1,
   "id": "bd6c02f4",
   "metadata": {},
   "outputs": [],
   "source": [
    "import numpy as np\n",
    "import pandas as pd\n",
    "import seaborn as sns\n",
    "import matplotlib.pyplot as plt\n",
    "\n",
    "from sklearn.model_selection import train_test_split\n",
    "from sklearn.preprocessing import StandardScaler, OneHotEncoder\n",
    "from sklearn.compose import ColumnTransformer\n",
    "from sklearn.pipeline import Pipeline\n",
    "\n",
    "from sklearn.model_selection import KFold\n",
    "from sklearn.metrics import accuracy_score\n",
    "\n",
    "import datetime\n",
    "from numba import jit"
   ]
  },
  {
   "cell_type": "code",
   "execution_count": 2,
   "id": "f6e66639",
   "metadata": {
    "scrolled": true
   },
   "outputs": [],
   "source": [
    "#!jupyter nbconvert --to script knn_project.ipynb"
   ]
  },
  {
   "cell_type": "code",
   "execution_count": 3,
   "id": "c75815b3",
   "metadata": {},
   "outputs": [],
   "source": [
    "\n",
    "columns = ['1st', '2nd', '3rd', '4th', '5th', '6th', 'predict']"
   ]
  },
  {
   "cell_type": "code",
   "execution_count": 4,
   "id": "c96a4896",
   "metadata": {
    "scrolled": true
   },
   "outputs": [
    {
     "data": {
      "text/html": [
       "<div>\n",
       "<style scoped>\n",
       "    .dataframe tbody tr th:only-of-type {\n",
       "        vertical-align: middle;\n",
       "    }\n",
       "\n",
       "    .dataframe tbody tr th {\n",
       "        vertical-align: top;\n",
       "    }\n",
       "\n",
       "    .dataframe thead th {\n",
       "        text-align: right;\n",
       "    }\n",
       "</style>\n",
       "<table border=\"1\" class=\"dataframe\">\n",
       "  <thead>\n",
       "    <tr style=\"text-align: right;\">\n",
       "      <th></th>\n",
       "      <th>1st</th>\n",
       "      <th>2nd</th>\n",
       "      <th>3rd</th>\n",
       "      <th>4th</th>\n",
       "      <th>5th</th>\n",
       "      <th>6th</th>\n",
       "      <th>predict</th>\n",
       "    </tr>\n",
       "  </thead>\n",
       "  <tbody>\n",
       "    <tr>\n",
       "      <th>0</th>\n",
       "      <td>40</td>\n",
       "      <td>2</td>\n",
       "      <td>1</td>\n",
       "      <td>86872</td>\n",
       "      <td>25</td>\n",
       "      <td>9</td>\n",
       "      <td>unsatisfied</td>\n",
       "    </tr>\n",
       "    <tr>\n",
       "      <th>1</th>\n",
       "      <td>40</td>\n",
       "      <td>2</td>\n",
       "      <td>1</td>\n",
       "      <td>259323</td>\n",
       "      <td>54</td>\n",
       "      <td>10</td>\n",
       "      <td>satisfied</td>\n",
       "    </tr>\n",
       "    <tr>\n",
       "      <th>2</th>\n",
       "      <td>40</td>\n",
       "      <td>2</td>\n",
       "      <td>1</td>\n",
       "      <td>256813</td>\n",
       "      <td>43</td>\n",
       "      <td>14</td>\n",
       "      <td>satisfied</td>\n",
       "    </tr>\n",
       "    <tr>\n",
       "      <th>3</th>\n",
       "      <td>70</td>\n",
       "      <td>2</td>\n",
       "      <td>1</td>\n",
       "      <td>118793</td>\n",
       "      <td>51</td>\n",
       "      <td>13</td>\n",
       "      <td>satisfied</td>\n",
       "    </tr>\n",
       "    <tr>\n",
       "      <th>4</th>\n",
       "      <td>40</td>\n",
       "      <td>2</td>\n",
       "      <td>2</td>\n",
       "      <td>398918</td>\n",
       "      <td>28</td>\n",
       "      <td>9</td>\n",
       "      <td>unsatisfied</td>\n",
       "    </tr>\n",
       "  </tbody>\n",
       "</table>\n",
       "</div>"
      ],
      "text/plain": [
       "   1st  2nd  3rd     4th  5th  6th      predict\n",
       "0   40    2    1   86872   25    9  unsatisfied\n",
       "1   40    2    1  259323   54   10    satisfied\n",
       "2   40    2    1  256813   43   14    satisfied\n",
       "3   70    2    1  118793   51   13    satisfied\n",
       "4   40    2    2  398918   28    9  unsatisfied"
      ]
     },
     "execution_count": 4,
     "metadata": {},
     "output_type": "execute_result"
    }
   ],
   "source": [
    "df = pd.read_csv('satisfaction_data.csv', names = columns)\n",
    "df.head()"
   ]
  },
  {
   "cell_type": "markdown",
   "id": "bba742b7",
   "metadata": {},
   "source": [
    "# check null value"
   ]
  },
  {
   "cell_type": "code",
   "execution_count": 5,
   "id": "7b4d25b5",
   "metadata": {},
   "outputs": [
    {
     "name": "stdout",
     "output_type": "stream",
     "text": [
      "<class 'pandas.core.frame.DataFrame'>\n",
      "RangeIndex: 20000 entries, 0 to 19999\n",
      "Data columns (total 7 columns):\n",
      " #   Column   Non-Null Count  Dtype \n",
      "---  ------   --------------  ----- \n",
      " 0   1st      20000 non-null  int64 \n",
      " 1   2nd      20000 non-null  int64 \n",
      " 2   3rd      20000 non-null  int64 \n",
      " 3   4th      20000 non-null  int64 \n",
      " 4   5th      20000 non-null  int64 \n",
      " 5   6th      20000 non-null  int64 \n",
      " 6   predict  20000 non-null  object\n",
      "dtypes: int64(6), object(1)\n",
      "memory usage: 1.1+ MB\n"
     ]
    }
   ],
   "source": [
    "df.info()"
   ]
  },
  {
   "cell_type": "code",
   "execution_count": 6,
   "id": "bec69b4d",
   "metadata": {},
   "outputs": [
    {
     "data": {
      "text/html": [
       "<div>\n",
       "<style scoped>\n",
       "    .dataframe tbody tr th:only-of-type {\n",
       "        vertical-align: middle;\n",
       "    }\n",
       "\n",
       "    .dataframe tbody tr th {\n",
       "        vertical-align: top;\n",
       "    }\n",
       "\n",
       "    .dataframe thead th {\n",
       "        text-align: right;\n",
       "    }\n",
       "</style>\n",
       "<table border=\"1\" class=\"dataframe\">\n",
       "  <thead>\n",
       "    <tr style=\"text-align: right;\">\n",
       "      <th></th>\n",
       "      <th>1st</th>\n",
       "      <th>2nd</th>\n",
       "      <th>3rd</th>\n",
       "      <th>4th</th>\n",
       "      <th>5th</th>\n",
       "      <th>6th</th>\n",
       "    </tr>\n",
       "  </thead>\n",
       "  <tbody>\n",
       "    <tr>\n",
       "      <th>count</th>\n",
       "      <td>20000.000000</td>\n",
       "      <td>20000.000000</td>\n",
       "      <td>20000.000000</td>\n",
       "      <td>2.000000e+04</td>\n",
       "      <td>20000.000000</td>\n",
       "      <td>20000.000000</td>\n",
       "    </tr>\n",
       "    <tr>\n",
       "      <th>mean</th>\n",
       "      <td>43.220150</td>\n",
       "      <td>2.358600</td>\n",
       "      <td>1.170800</td>\n",
       "      <td>1.847070e+05</td>\n",
       "      <td>39.434400</td>\n",
       "      <td>10.304350</td>\n",
       "    </tr>\n",
       "    <tr>\n",
       "      <th>std</th>\n",
       "      <td>11.842909</td>\n",
       "      <td>1.136825</td>\n",
       "      <td>0.564396</td>\n",
       "      <td>1.011263e+05</td>\n",
       "      <td>12.877026</td>\n",
       "      <td>2.454938</td>\n",
       "    </tr>\n",
       "    <tr>\n",
       "      <th>min</th>\n",
       "      <td>1.000000</td>\n",
       "      <td>0.000000</td>\n",
       "      <td>0.000000</td>\n",
       "      <td>1.376900e+04</td>\n",
       "      <td>17.000000</td>\n",
       "      <td>1.000000</td>\n",
       "    </tr>\n",
       "    <tr>\n",
       "      <th>25%</th>\n",
       "      <td>40.000000</td>\n",
       "      <td>2.000000</td>\n",
       "      <td>1.000000</td>\n",
       "      <td>1.148212e+05</td>\n",
       "      <td>30.000000</td>\n",
       "      <td>9.000000</td>\n",
       "    </tr>\n",
       "    <tr>\n",
       "      <th>50%</th>\n",
       "      <td>40.000000</td>\n",
       "      <td>2.000000</td>\n",
       "      <td>1.000000</td>\n",
       "      <td>1.759280e+05</td>\n",
       "      <td>38.000000</td>\n",
       "      <td>10.000000</td>\n",
       "    </tr>\n",
       "    <tr>\n",
       "      <th>75%</th>\n",
       "      <td>50.000000</td>\n",
       "      <td>2.000000</td>\n",
       "      <td>2.000000</td>\n",
       "      <td>2.318010e+05</td>\n",
       "      <td>48.000000</td>\n",
       "      <td>13.000000</td>\n",
       "    </tr>\n",
       "    <tr>\n",
       "      <th>max</th>\n",
       "      <td>99.000000</td>\n",
       "      <td>5.000000</td>\n",
       "      <td>2.000000</td>\n",
       "      <td>1.097453e+06</td>\n",
       "      <td>90.000000</td>\n",
       "      <td>16.000000</td>\n",
       "    </tr>\n",
       "  </tbody>\n",
       "</table>\n",
       "</div>"
      ],
      "text/plain": [
       "                1st           2nd           3rd           4th           5th  \\\n",
       "count  20000.000000  20000.000000  20000.000000  2.000000e+04  20000.000000   \n",
       "mean      43.220150      2.358600      1.170800  1.847070e+05     39.434400   \n",
       "std       11.842909      1.136825      0.564396  1.011263e+05     12.877026   \n",
       "min        1.000000      0.000000      0.000000  1.376900e+04     17.000000   \n",
       "25%       40.000000      2.000000      1.000000  1.148212e+05     30.000000   \n",
       "50%       40.000000      2.000000      1.000000  1.759280e+05     38.000000   \n",
       "75%       50.000000      2.000000      2.000000  2.318010e+05     48.000000   \n",
       "max       99.000000      5.000000      2.000000  1.097453e+06     90.000000   \n",
       "\n",
       "                6th  \n",
       "count  20000.000000  \n",
       "mean      10.304350  \n",
       "std        2.454938  \n",
       "min        1.000000  \n",
       "25%        9.000000  \n",
       "50%       10.000000  \n",
       "75%       13.000000  \n",
       "max       16.000000  "
      ]
     },
     "execution_count": 6,
     "metadata": {},
     "output_type": "execute_result"
    }
   ],
   "source": [
    "df.describe()"
   ]
  },
  {
   "cell_type": "markdown",
   "id": "17ccaa13",
   "metadata": {},
   "source": [
    "# numeric, category col 정리"
   ]
  },
  {
   "cell_type": "code",
   "execution_count": 7,
   "id": "682d5283",
   "metadata": {
    "scrolled": false
   },
   "outputs": [
    {
     "data": {
      "text/plain": [
       "<AxesSubplot:xlabel='6th', ylabel='Count'>"
      ]
     },
     "execution_count": 7,
     "metadata": {},
     "output_type": "execute_result"
    },
    {
     "data": {
      "image/png": "[encoded data removed]",
      "text/plain": [
       "<Figure size 1296x1080 with 6 Axes>"
      ]
     },
     "metadata": {
      "needs_background": "light"
     },
     "output_type": "display_data"
    }
   ],
   "source": [
    "\n",
    "fig, ax = plt.subplots(nrows=3, ncols=2,figsize=(18,15))\n",
    "sns.histplot(df['1st'], ax=ax[0][0])\n",
    "sns.histplot(df['2nd'], ax=ax[0][1])\n",
    "sns.histplot(df['3rd'], ax=ax[1][0])\n",
    "sns.histplot(df['4th'], ax=ax[1][1])\n",
    "sns.histplot(df['5th'], ax=ax[2][0])\n",
    "sns.histplot(df['6th'], ax=ax[2][1])\n"
   ]
  },
  {
   "cell_type": "markdown",
   "id": "4ebe0a13",
   "metadata": {},
   "source": [
    "### 모든 칼럼의 분포를 확인했을때, 1st, 4th, 5th, 6th 열은 numeric col이고, 2nd,3rd 열은 category col임을 확인할 수 있다."
   ]
  },
  {
   "cell_type": "code",
   "execution_count": null,
   "id": "62f4ca7e",
   "metadata": {},
   "outputs": [],
   "source": []
  },
  {
   "cell_type": "markdown",
   "id": "75ed5b8c",
   "metadata": {},
   "source": [
    "## data 분리"
   ]
  },
  {
   "cell_type": "code",
   "execution_count": 8,
   "id": "a2e25bda",
   "metadata": {},
   "outputs": [],
   "source": [
    "x = df.iloc[:, : -1]\n",
    "y = df.iloc[:,6:]"
   ]
  },
  {
   "cell_type": "code",
   "execution_count": 9,
   "id": "a5bb99ad",
   "metadata": {},
   "outputs": [],
   "source": [
    "# unsatisfied -> 0 / satisfied -> 1 변경\n",
    "y = y.replace('unsatisfied',0).replace('satisfied',1)"
   ]
  },
  {
   "cell_type": "code",
   "execution_count": 10,
   "id": "c15cc4dd",
   "metadata": {},
   "outputs": [
    {
     "data": {
      "text/html": [
       "<div>\n",
       "<style scoped>\n",
       "    .dataframe tbody tr th:only-of-type {\n",
       "        vertical-align: middle;\n",
       "    }\n",
       "\n",
       "    .dataframe tbody tr th {\n",
       "        vertical-align: top;\n",
       "    }\n",
       "\n",
       "    .dataframe thead th {\n",
       "        text-align: right;\n",
       "    }\n",
       "</style>\n",
       "<table border=\"1\" class=\"dataframe\">\n",
       "  <thead>\n",
       "    <tr style=\"text-align: right;\">\n",
       "      <th></th>\n",
       "      <th>1st</th>\n",
       "      <th>2nd</th>\n",
       "      <th>3rd</th>\n",
       "      <th>4th</th>\n",
       "      <th>5th</th>\n",
       "      <th>6th</th>\n",
       "    </tr>\n",
       "  </thead>\n",
       "  <tbody>\n",
       "    <tr>\n",
       "      <th>0</th>\n",
       "      <td>40</td>\n",
       "      <td>2</td>\n",
       "      <td>1</td>\n",
       "      <td>86872</td>\n",
       "      <td>25</td>\n",
       "      <td>9</td>\n",
       "    </tr>\n",
       "    <tr>\n",
       "      <th>1</th>\n",
       "      <td>40</td>\n",
       "      <td>2</td>\n",
       "      <td>1</td>\n",
       "      <td>259323</td>\n",
       "      <td>54</td>\n",
       "      <td>10</td>\n",
       "    </tr>\n",
       "    <tr>\n",
       "      <th>2</th>\n",
       "      <td>40</td>\n",
       "      <td>2</td>\n",
       "      <td>1</td>\n",
       "      <td>256813</td>\n",
       "      <td>43</td>\n",
       "      <td>14</td>\n",
       "    </tr>\n",
       "    <tr>\n",
       "      <th>3</th>\n",
       "      <td>70</td>\n",
       "      <td>2</td>\n",
       "      <td>1</td>\n",
       "      <td>118793</td>\n",
       "      <td>51</td>\n",
       "      <td>13</td>\n",
       "    </tr>\n",
       "    <tr>\n",
       "      <th>4</th>\n",
       "      <td>40</td>\n",
       "      <td>2</td>\n",
       "      <td>2</td>\n",
       "      <td>398918</td>\n",
       "      <td>28</td>\n",
       "      <td>9</td>\n",
       "    </tr>\n",
       "  </tbody>\n",
       "</table>\n",
       "</div>"
      ],
      "text/plain": [
       "   1st  2nd  3rd     4th  5th  6th\n",
       "0   40    2    1   86872   25    9\n",
       "1   40    2    1  259323   54   10\n",
       "2   40    2    1  256813   43   14\n",
       "3   70    2    1  118793   51   13\n",
       "4   40    2    2  398918   28    9"
      ]
     },
     "execution_count": 10,
     "metadata": {},
     "output_type": "execute_result"
    }
   ],
   "source": [
    "x.head()"
   ]
  },
  {
   "cell_type": "code",
   "execution_count": 11,
   "id": "e9af3201",
   "metadata": {
    "scrolled": false
   },
   "outputs": [
    {
     "data": {
      "text/html": [
       "<div>\n",
       "<style scoped>\n",
       "    .dataframe tbody tr th:only-of-type {\n",
       "        vertical-align: middle;\n",
       "    }\n",
       "\n",
       "    .dataframe tbody tr th {\n",
       "        vertical-align: top;\n",
       "    }\n",
       "\n",
       "    .dataframe thead th {\n",
       "        text-align: right;\n",
       "    }\n",
       "</style>\n",
       "<table border=\"1\" class=\"dataframe\">\n",
       "  <thead>\n",
       "    <tr style=\"text-align: right;\">\n",
       "      <th></th>\n",
       "      <th>predict</th>\n",
       "    </tr>\n",
       "  </thead>\n",
       "  <tbody>\n",
       "    <tr>\n",
       "      <th>0</th>\n",
       "      <td>0</td>\n",
       "    </tr>\n",
       "    <tr>\n",
       "      <th>1</th>\n",
       "      <td>1</td>\n",
       "    </tr>\n",
       "    <tr>\n",
       "      <th>2</th>\n",
       "      <td>1</td>\n",
       "    </tr>\n",
       "    <tr>\n",
       "      <th>3</th>\n",
       "      <td>1</td>\n",
       "    </tr>\n",
       "    <tr>\n",
       "      <th>4</th>\n",
       "      <td>0</td>\n",
       "    </tr>\n",
       "  </tbody>\n",
       "</table>\n",
       "</div>"
      ],
      "text/plain": [
       "   predict\n",
       "0        0\n",
       "1        1\n",
       "2        1\n",
       "3        1\n",
       "4        0"
      ]
     },
     "execution_count": 11,
     "metadata": {},
     "output_type": "execute_result"
    }
   ],
   "source": [
    "y.head()"
   ]
  },
  {
   "cell_type": "code",
   "execution_count": null,
   "id": "143cde5b",
   "metadata": {},
   "outputs": [],
   "source": []
  },
  {
   "cell_type": "markdown",
   "id": "daefbec7",
   "metadata": {},
   "source": [
    "## One Hot Encoding & Standard Scaler"
   ]
  },
  {
   "cell_type": "code",
   "execution_count": 12,
   "id": "e9c340c0",
   "metadata": {},
   "outputs": [],
   "source": [
    "def pipe_processing(x_train, x_test):\n",
    "    numeric_features = ['1st', '4th', '5th', '6th']\n",
    "    numeric_transformer = StandardScaler() \n",
    "\n",
    "    categorical_features = ['2nd', '3rd']\n",
    "    categorical_transformer = OneHotEncoder()\n",
    "    \n",
    "    preprocessor = ColumnTransformer(\n",
    "        transformers=[ \n",
    "            ('num', numeric_transformer, numeric_features),\n",
    "            ('cat', categorical_transformer, categorical_features)])\n",
    "    preprocessor_pipe = Pipeline(steps=[('preprocessor', preprocessor)]) \n",
    "    preprocessor_pipe.fit(x_train)\n",
    "    x_train_transformed = preprocessor_pipe.transform(x_train)\n",
    "    x_test_transformed = preprocessor_pipe.transform(x_test)\n",
    "    \n",
    "    return x_train_transformed, x_test_transformed"
   ]
  },
  {
   "cell_type": "markdown",
   "id": "56842adf",
   "metadata": {},
   "source": [
    "-------------------------------------------------------------------------------------"
   ]
  },
  {
   "cell_type": "markdown",
   "id": "1ba5ed17",
   "metadata": {},
   "source": [
    "## knn을 위한 함수 정의"
   ]
  },
  {
   "cell_type": "code",
   "execution_count": 13,
   "id": "e5b1e474",
   "metadata": {},
   "outputs": [],
   "source": [
    "@jit(nopython=True)\n",
    "def euclidean_distance(x1, train_data):\n",
    "    distance_list = []\n",
    "    for i in range(len(train_data)):\n",
    "        dist = 0\n",
    "        for j in range(len(x1)):\n",
    "            dist += ((x1[j] - train_data[i][j]) ** 2)\n",
    "        dist = dist ** 0.5\n",
    "        distance_list.append((dist, i))\n",
    "    distance_list.sort()\n",
    "    return distance_list\n",
    "    "
   ]
  },
  {
   "cell_type": "code",
   "execution_count": 14,
   "id": "39300530",
   "metadata": {},
   "outputs": [],
   "source": [
    "# k개의 가장 가까운 점의 라벨 체크\n",
    "def get_nearest_neighbor(distance_list, k, y_data):\n",
    "    result = distance_list[:k]\n",
    "    k_label = []\n",
    "    for i in range(k):\n",
    "        k_label.append(y_data[result[i][1]][0])\n",
    "\n",
    "    return k_label"
   ]
  },
  {
   "cell_type": "code",
   "execution_count": 15,
   "id": "e95b393c",
   "metadata": {},
   "outputs": [],
   "source": [
    "# list 내에서 최빈값을 label로 결정\n",
    "def get_label(labels):\n",
    "    return max(set(labels), key=labels.count)"
   ]
  },
  {
   "cell_type": "code",
   "execution_count": 16,
   "id": "3ba97ccb",
   "metadata": {},
   "outputs": [],
   "source": [
    "\n",
    "def knn(test, train, k, y_train):\n",
    "    predictions = []\n",
    "    for i in range(len(test)):\n",
    "        distance_list = euclidean_distance(test[i], train)\n",
    "        k_labels = get_nearest_neighbor(distance_list, k, y_train)\n",
    "        predictions.append(get_label(k_labels))\n",
    "    return predictions"
   ]
  },
  {
   "cell_type": "code",
   "execution_count": 17,
   "id": "f4bd9efc",
   "metadata": {},
   "outputs": [],
   "source": [
    "# 최적의 k값 찾는 함수\n",
    "def elbow():\n",
    "    x_train, x_test, y_train, y_test  = train_test_split(x,y,test_size=0.1,random_state=0)\n",
    "    x_train_transformed , x_test_transformed= pipe_processing(x_train, x_test)\n",
    "    y_train = np.array(y_train)\n",
    "    \n",
    "    error= []\n",
    "    for i in range(1,30):\n",
    "        y_predict = knn(x_test_transformed, x_train_transformed,i, y_train)\n",
    "        error.append(1-(accuracy_score(y_test,y_predict)))\n",
    "    return error"
   ]
  },
  {
   "cell_type": "code",
   "execution_count": null,
   "id": "b11bdafd",
   "metadata": {},
   "outputs": [],
   "source": [
    "errors = elbow()"
   ]
  },
  {
   "cell_type": "code",
   "execution_count": null,
   "id": "d6510d7d",
   "metadata": {},
   "outputs": [],
   "source": [
    "plt.plot(range(1,30),errors,'r-',marker='o')\n",
    "plt.xlabel('K')\n",
    "plt.ylabel('Error')\n",
    "plt.title('Error vs K value')"
   ]
  },
  {
   "cell_type": "code",
   "execution_count": null,
   "id": "3bc0189e",
   "metadata": {
    "scrolled": false
   },
   "outputs": [],
   "source": [
    "\n",
    "def kfold(x,y):\n",
    "    accuracy_history = []\n",
    "    test_size = 0.1\n",
    "    random_state = 0\n",
    "    num_folds= 10 # test_size = 0.1\n",
    "    kfold = KFold(n_splits = num_folds, shuffle = True, random_state = random_state)\n",
    "    count = 1\n",
    "    columns = ['1st', '2nd', '3rd', '4th', '5th', '6th']\n",
    "    best_score = -1\n",
    "    for train_index, test_index in kfold.split(x, y):\n",
    "            X_train, X_test = np.array(x)[train_index], np.array(x)[test_index]\n",
    "            y_train, y_test = np.array(y)[train_index], np.array(y)[test_index]\n",
    "            X_train = pd.DataFrame(X_train, columns = columns)\n",
    "            X_test = pd.DataFrame(X_test, columns = columns)\n",
    "            \n",
    "            y_train_df = pd.DataFrame(y_train, columns=['predict'])\n",
    "            y_test_df = pd.DataFrame(y_test, columns=['predict'])\n",
    "            train_df = pd.concat([X_train, y_train_df], axis=1)\n",
    "            test_df = pd.concat([X_test, y_test_df], axis=1)\n",
    "            \n",
    "            train_df.to_csv(\"train_set\" + str(count) + \".csv\")\n",
    "            test_df.to_csv(\"test_set\" + str(count) + \".csv\")\n",
    "            \n",
    "            \n",
    "            x_train_transformed , x_test_transformed= pipe_processing(X_train, X_test)\n",
    "            y_predict = knn(x_test_transformed, x_train_transformed,17, y_train)\n",
    "            score = accuracy_score(y_test,y_predict)\n",
    "            \n",
    "            if score > best_score:\n",
    "                best_score = score\n",
    "                best_predict = y_predict\n",
    "                best_test_df = test_df\n",
    "\n",
    "            accuracy_history.append(score)\n",
    "            count += 1\n",
    "    return best_test_df, best_predict, accuracy_history\n"
   ]
  },
  {
   "cell_type": "code",
   "execution_count": null,
   "id": "89e6e3a5",
   "metadata": {},
   "outputs": [],
   "source": [
    "\n",
    "start = datetime.datetime.now()\n",
    "best_test_df, y_result, accuracy_history = kfold(x,y)\n",
    "end = datetime.datetime.now()\n",
    "print(\"모델 실행시간:\", end-start)\n",
    "print(\"각 분할의 정확도 기록 :\", accuracy_history)\n",
    "print(\"평균 정확도 :\", np.mean(accuracy_history)) "
   ]
  },
  {
   "cell_type": "code",
   "execution_count": null,
   "id": "106457d3",
   "metadata": {},
   "outputs": [],
   "source": [
    "def get_user_predict_file(best_test_df, y_result):\n",
    "    predict_data = pd.concat([best_test_df, pd.DataFrame(y_result)], axis=1)\n",
    "    predict_data.rename(columns={'predict':'Satisfaction', 0:'predict'}, inplace = True)\n",
    "    predict_data.to_csv(\"20171006.csv\")\n",
    "    "
   ]
  },
  {
   "cell_type": "code",
   "execution_count": null,
   "id": "2a6552c1",
   "metadata": {},
   "outputs": [],
   "source": [
    "get_user_predict_file(best_test_df, y_result)"
   ]
  },
  {
   "cell_type": "code",
   "execution_count": null,
   "id": "eebea836",
   "metadata": {},
   "outputs": [],
   "source": []
  },
  {
   "cell_type": "code",
   "execution_count": null,
   "id": "c582b1a0",
   "metadata": {},
   "outputs": [],
   "source": []
  }
 ],
 "metadata": {
  "kernelspec": {
   "display_name": "Python 3 (ipykernel)",
   "language": "python",
   "name": "python3"
  },
  "language_info": {
   "codemirror_mode": {
    "name": "ipython",
    "version": 3
   },
   "file_extension": ".py",
   "mimetype": "text/x-python",
   "name": "python",
   "nbconvert_exporter": "python",
   "pygments_lexer": "ipython3",
   "version": "3.9.7"
  }
 },
 "nbformat": 4,
 "nbformat_minor": 5
}
